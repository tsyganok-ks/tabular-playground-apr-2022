{
  "nbformat": 4,
  "nbformat_minor": 0,
  "metadata": {
    "colab": {
      "name": "Tabular_apr_2022.ipynb",
      "provenance": [],
      "collapsed_sections": [],
      "authorship_tag": "ABX9TyP/3Ko5gOU42pgDhdIUWs3s",
      "include_colab_link": true
    },
    "kernelspec": {
      "name": "python3",
      "display_name": "Python 3"
    },
    "language_info": {
      "name": "python"
    }
  },
  "cells": [
    {
      "cell_type": "markdown",
      "metadata": {
        "id": "view-in-github",
        "colab_type": "text"
      },
      "source": [
        "<a href=\"https://colab.research.google.com/github/tsyganok-ks/tabular-playground-apr-2022/blob/main/Tabular_apr_2022.ipynb\" target=\"_parent\"><img src=\"https://colab.research.google.com/assets/colab-badge.svg\" alt=\"Open In Colab\"/></a>"
      ]
    },
    {
      "cell_type": "code",
      "source": [
        "pip install catboost"
      ],
      "metadata": {
        "id": "56o8kwpG8My_"
      },
      "execution_count": null,
      "outputs": []
    },
    {
      "cell_type": "code",
      "execution_count": 4,
      "metadata": {
        "colab": {
          "base_uri": "https://localhost:8080/"
        },
        "id": "daIpF933709-",
        "outputId": "1e8e2ead-f9e8-44e5-bdc8-e75722cecf03"
      },
      "outputs": [
        {
          "output_type": "stream",
          "name": "stdout",
          "text": [
            "Drive already mounted at /content/drive; to attempt to forcibly remount, call drive.mount(\"/content/drive\", force_remount=True).\n"
          ]
        }
      ],
      "source": [
        "import pandas as pd\n",
        "import numpy as np\n",
        "\n",
        "from google.colab import drive\n",
        "drive.mount('/content/drive')\n",
        "\n",
        "train_df = pd.read_csv('/content/drive/MyDrive/Colab Notebooks/Kaggle/tabular-playground-apr-2022/train.csv')\n",
        "\n",
        "train_labels_df = pd.read_csv('/content/drive/MyDrive/Colab Notebooks/Kaggle/tabular-playground-apr-2022/train_labels.csv')\n",
        "\n",
        "test_df = pd.read_csv('/content/drive/MyDrive/Colab Notebooks/Kaggle/tabular-playground-apr-2022/test.csv')\n",
        "\n",
        "submit_df = pd.read_csv('/content/drive/MyDrive/Colab Notebooks/Kaggle/tabular-playground-apr-2022/sample_submission.csv')"
      ]
    },
    {
      "cell_type": "code",
      "source": [
        ""
      ],
      "metadata": {
        "id": "ET3wJW7H-MjD"
      },
      "execution_count": null,
      "outputs": []
    }
  ]
}